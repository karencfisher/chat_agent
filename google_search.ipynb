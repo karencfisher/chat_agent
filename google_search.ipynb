{
 "cells": [
  {
   "cell_type": "code",
   "execution_count": 1,
   "metadata": {},
   "outputs": [],
   "source": [
    "from openai_chat_agent.utils.google_search import GoogleSearch\n"
   ]
  },
  {
   "cell_type": "code",
   "execution_count": 2,
   "metadata": {},
   "outputs": [],
   "source": [
    "search = GoogleSearch(verbose=True)\n",
    "\n",
    "def run_search(query):\n",
    "    summary, references = search(query)\n",
    "\n",
    "    print(f'I enquired:\\n\\\"{query}\\\"\\n')\n",
    "    print(f'I learned:\\n{summary}\\n')\n",
    "    print(f'My references:')\n",
    "    for reference in references:\n",
    "        title, link = reference\n",
    "        print(f'{title}: {link}')"
   ]
  },
  {
   "cell_type": "code",
   "execution_count": 3,
   "metadata": {},
   "outputs": [
    {
     "name": "stdout",
     "output_type": "stream",
     "text": [
      "Searching the web for 10 websites on \"What is the typical life span of a cat?\"\n",
      "Fetching pages and breaking into chunks\n"
     ]
    },
    {
     "ename": "RuntimeError",
     "evalue": "asyncio.run() cannot be called from a running event loop",
     "output_type": "error",
     "traceback": [
      "\u001b[1;31m---------------------------------------------------------------------------\u001b[0m",
      "\u001b[1;31mRuntimeError\u001b[0m                              Traceback (most recent call last)",
      "Cell \u001b[1;32mIn[3], line 2\u001b[0m\n\u001b[0;32m      1\u001b[0m query \u001b[39m=\u001b[39m \u001b[39m\"\u001b[39m\u001b[39mWhat is the typical life span of a cat?\u001b[39m\u001b[39m\"\u001b[39m\n\u001b[1;32m----> 2\u001b[0m run_search(query)\n",
      "Cell \u001b[1;32mIn[2], line 4\u001b[0m, in \u001b[0;36mrun_search\u001b[1;34m(query)\u001b[0m\n\u001b[0;32m      3\u001b[0m \u001b[39mdef\u001b[39;00m \u001b[39mrun_search\u001b[39m(query):\n\u001b[1;32m----> 4\u001b[0m     summary, references \u001b[39m=\u001b[39m search(query)\n\u001b[0;32m      6\u001b[0m     \u001b[39mprint\u001b[39m(\u001b[39mf\u001b[39m\u001b[39m'\u001b[39m\u001b[39mI enquired:\u001b[39m\u001b[39m\\n\u001b[39;00m\u001b[39m\\\"\u001b[39;00m\u001b[39m{\u001b[39;00mquery\u001b[39m}\u001b[39;00m\u001b[39m\\\"\u001b[39;00m\u001b[39m\\n\u001b[39;00m\u001b[39m'\u001b[39m)\n\u001b[0;32m      7\u001b[0m     \u001b[39mprint\u001b[39m(\u001b[39mf\u001b[39m\u001b[39m'\u001b[39m\u001b[39mI learned:\u001b[39m\u001b[39m\\n\u001b[39;00m\u001b[39m{\u001b[39;00msummary\u001b[39m}\u001b[39;00m\u001b[39m\\n\u001b[39;00m\u001b[39m'\u001b[39m)\n",
      "File \u001b[1;32mc:\\Users\\karen\\myprojects\\chat_agent\\openai_chat_agent\\utils\\google_search.py:135\u001b[0m, in \u001b[0;36mGoogleSearch.__call__\u001b[1;34m(self, query)\u001b[0m\n\u001b[0;32m    133\u001b[0m \u001b[39m# if not, we perform a new search\u001b[39;00m\n\u001b[0;32m    134\u001b[0m items \u001b[39m=\u001b[39m \u001b[39mself\u001b[39m\u001b[39m.\u001b[39m__get_pages(query)\n\u001b[1;32m--> 135\u001b[0m docs \u001b[39m=\u001b[39m \u001b[39mself\u001b[39m\u001b[39m.\u001b[39m__get_documents(items)\n\u001b[0;32m    136\u001b[0m \u001b[39mself\u001b[39m\u001b[39m.\u001b[39m__store_documents(docs)\n\u001b[0;32m    137\u001b[0m selections \u001b[39m=\u001b[39m \u001b[39mself\u001b[39m\u001b[39m.\u001b[39m__get_selections(query)\n",
      "File \u001b[1;32mc:\\Users\\karen\\myprojects\\chat_agent\\openai_chat_agent\\utils\\google_search.py:80\u001b[0m, in \u001b[0;36mGoogleSearch.__get_documents\u001b[1;34m(self, items)\u001b[0m\n\u001b[0;32m     60\u001b[0m \u001b[39m# docs = []\u001b[39;00m\n\u001b[0;32m     61\u001b[0m \u001b[39m# for item in items:\u001b[39;00m\n\u001b[0;32m     62\u001b[0m \u001b[39m#     # spoof as a chrome browser and fetch website\u001b[39;00m\n\u001b[1;32m   (...)\u001b[0m\n\u001b[0;32m     76\u001b[0m \u001b[39m#     if self.verbose:\u001b[39;00m\n\u001b[0;32m     77\u001b[0m \u001b[39m#         print(f'\\r{len(docs)} documents', end='')\u001b[39;00m\n\u001b[0;32m     79\u001b[0m scraper \u001b[39m=\u001b[39m AsyncWebScraper(\u001b[39mself\u001b[39m\u001b[39m.\u001b[39mtext_splitter, verbose\u001b[39m=\u001b[39m\u001b[39mself\u001b[39m\u001b[39m.\u001b[39mverbose)\n\u001b[1;32m---> 80\u001b[0m docs \u001b[39m=\u001b[39m asyncio\u001b[39m.\u001b[39mrun(scraper\u001b[39m.\u001b[39mget_documents(items))\n\u001b[0;32m     82\u001b[0m \u001b[39mif\u001b[39;00m \u001b[39mself\u001b[39m\u001b[39m.\u001b[39mverbose:\n\u001b[0;32m     83\u001b[0m     \u001b[39mprint\u001b[39m(\u001b[39m'\u001b[39m\u001b[39m'\u001b[39m)\n",
      "File \u001b[1;32mc:\\Users\\karen\\Anaconda3\\envs\\palm-chat\\Lib\\asyncio\\runners.py:186\u001b[0m, in \u001b[0;36mrun\u001b[1;34m(main, debug)\u001b[0m\n\u001b[0;32m    161\u001b[0m \u001b[39m\u001b[39m\u001b[39m\"\"\"Execute the coroutine and return the result.\u001b[39;00m\n\u001b[0;32m    162\u001b[0m \n\u001b[0;32m    163\u001b[0m \u001b[39mThis function runs the passed coroutine, taking care of\u001b[39;00m\n\u001b[1;32m   (...)\u001b[0m\n\u001b[0;32m    182\u001b[0m \u001b[39m    asyncio.run(main())\u001b[39;00m\n\u001b[0;32m    183\u001b[0m \u001b[39m\"\"\"\u001b[39;00m\n\u001b[0;32m    184\u001b[0m \u001b[39mif\u001b[39;00m events\u001b[39m.\u001b[39m_get_running_loop() \u001b[39mis\u001b[39;00m \u001b[39mnot\u001b[39;00m \u001b[39mNone\u001b[39;00m:\n\u001b[0;32m    185\u001b[0m     \u001b[39m# fail fast with short traceback\u001b[39;00m\n\u001b[1;32m--> 186\u001b[0m     \u001b[39mraise\u001b[39;00m \u001b[39mRuntimeError\u001b[39;00m(\n\u001b[0;32m    187\u001b[0m         \u001b[39m\"\u001b[39m\u001b[39masyncio.run() cannot be called from a running event loop\u001b[39m\u001b[39m\"\u001b[39m)\n\u001b[0;32m    189\u001b[0m \u001b[39mwith\u001b[39;00m Runner(debug\u001b[39m=\u001b[39mdebug) \u001b[39mas\u001b[39;00m runner:\n\u001b[0;32m    190\u001b[0m     \u001b[39mreturn\u001b[39;00m runner\u001b[39m.\u001b[39mrun(main)\n",
      "\u001b[1;31mRuntimeError\u001b[0m: asyncio.run() cannot be called from a running event loop"
     ]
    }
   ],
   "source": [
    "query = \"What is the typical life span of a cat?\"\n",
    "run_search(query)"
   ]
  },
  {
   "cell_type": "code",
   "execution_count": 5,
   "metadata": {},
   "outputs": [
    {
     "name": "stdout",
     "output_type": "stream",
     "text": [
      "The relevant documents I found:\n",
      "(Document(page_content='How Long Do Cats Live? | PetMD', metadata={'reference': ('How Long Do Cats Live? | PetMD', 'https://www.petmd.com/cat/care/how-long-do-cats-live')}), 0.24188629)\n",
      "(Document(page_content='It’s thought that mixed-breed cats are affected by hereditary illnesses less frequently than purebred cats, and so their average lifespan is typically one to two years longer. Breed-specific lifespans vary too, so purebred cat parents should take their kitty’s breed into consideration as well. For example: Maine Coon cats have an average lifespan of 10-13 years, while a Siamese can live to be 15-20.\\nIndoor Cat vs. Outdoor Cat Life Expectancy', metadata={'reference': ('How Long Do Cats Live? | PetMD', 'https://www.petmd.com/cat/care/how-long-do-cats-live')}), 0.24864937)\n",
      "(Document(page_content='Cat Breeds and Lifespan  \\nWhile it is impossible to know exactly how long a cat will live, some breeds of cats are known to often live longer than others. The Siamese and Manx cat breeds are two that often outlive their cat competition, but other breeds have been recorded as living into their 20s and even 30s. Both purebred and domestic mixed-breed cats have the potential to surpass the average lifespan of the species.\\n   Cat Nutrition and Lifespan', metadata={'reference': ('What Is the Average Lifespan of the Common Cat?', 'https://www.thesprucepets.com/lifespan-of-cats-552035')}), 0.25336188)\n",
      "(Document(page_content='Average lifespan among domestic cats[edit]', metadata={'reference': ('Aging in cats - Wikipedia', 'https://en.wikipedia.org/wiki/Aging_in_cats')}), 0.28254637)\n",
      "(Document(page_content='Indoor cats generally live from 12-18 years of age. Many may live to be in their early 20s. The oldest reported cat, Creme Puff lived to be an amazing 38 years old.', metadata={'reference': ('How long do cats live? Ageing and your feline - Vetwest Veterinary ...', 'https://www.vetwest.com.au/pet-library/how-long-do-cats-live-ageing-and-your-feline/')}), 0.29108456)\n",
      "\n",
      "Re-using previous search data\n",
      "I enquired:\n",
      "\"How long can a Siamese cat live?\"\n",
      "\n",
      "I learned:\n",
      "The information provided includes various sources discussing the average lifespan of cats. According to PetMD, mixed-breed cats tend to live longer than purebred cats, with an average lifespan of one to two years longer. However, breed-specific lifespans can also vary, with Maine Coon cats living an average of 10-13 years and Siamese cats living up to 15-20 years. Another source mentions that certain breeds like Siamese and Manx cats often outlive other breeds, and some cats have been recorded to live into their 20s and even 30s. Additionally, indoor cats generally live from 12-18 years, with some living into their early 20s. The oldest reported cat, Creme Puff, lived to be 38 years old.\n",
      "\n",
      "My references:\n",
      "How Long Do Cats Live? | PetMD: https://www.petmd.com/cat/care/how-long-do-cats-live\n",
      "What Is the Average Lifespan of the Common Cat?: https://www.thesprucepets.com/lifespan-of-cats-552035\n",
      "Aging in cats - Wikipedia: https://en.wikipedia.org/wiki/Aging_in_cats\n",
      "How long do cats live? Ageing and your feline - Vetwest Veterinary ...: https://www.vetwest.com.au/pet-library/how-long-do-cats-live-ageing-and-your-feline/\n"
     ]
    }
   ],
   "source": [
    "query = \"How long can a Siamese cat live?\"\n",
    "run_search(query)"
   ]
  },
  {
   "cell_type": "code",
   "execution_count": 4,
   "metadata": {},
   "outputs": [
    {
     "name": "stdout",
     "output_type": "stream",
     "text": [
      "The relevant documents I found:\n",
      "(Document(page_content=\"Emily Estep is a biologist and fact checker focused on environmental sciences. She received a Bachelor of Arts in Journalism and a Master of Science in Plant Biology from Ohio University. Emily has been a proofreader and editor at a variety of online media outlets over the past decade and has reviewed more than 200 articles for The Spruce Pets for factual accuracy.\\nLearn more about The Spruce Pets'\\nEditorial Process\\n \\nWestend61 / Getty Images\", metadata={'reference': ('What Is the Average Lifespan of the Common Cat?', 'https://www.thesprucepets.com/lifespan-of-cats-552035')}), 0.5052571)\n",
      "(Document(page_content='What is a visit with Dutch like?', metadata={'reference': ('Indoor Cat Lifespan: How Long Do Indoor Cats Live | Dutch', 'https://www.dutch.com/blogs/cats/how-long-do-indoor-cats-live')}), 0.5193074)\n",
      "(Document(page_content='Page load link\\n \\nGo to Top', metadata={'reference': ('How long do cats live? Ageing and your feline - Vetwest Veterinary ...', 'https://www.vetwest.com.au/pet-library/how-long-do-cats-live-ageing-and-your-feline/')}), 0.52029055)\n",
      "(Document(page_content='Twitter\\nInstagram\\nYouTube\\nPinterest\\n \\nLitter-Robot\\nLitter-Robot 4\\nExplore Litter-Robot 4\\nLitter-Robot 3 Connect\\nLitter-Robot 3\\nExplore Litter-Robot 3\\nAccessories\\nBundles\\nHow it Works\\nFeatures & Benefits\\nThe App\\nAcclimating your Pet\\nShop All\\nShop All\\nFeeder-Robot\\nFurniture\\nCat Extras\\nReviews\\nSupport\\nShipping\\nGetting Started\\nSupport Center\\nFirmware Updates\\nWhiskerCare™ Warranty\\nReturns\\nFinancing\\nFAQ\\nCompany\\nAbout Us\\nUSA\\nCareers\\nBlog\\nMedia\\nVet-Approved / Dr. Lee\\nPatents\\nPartners\\nAffiliates', metadata={'reference': ('How Long Do Cats Live? Average Lifespan of a House Cat | Litter ...', 'https://www.litter-robot.com/blog/how-long-do-cats-live/')}), 0.5261059)\n",
      "(Document(page_content='Search for:\\nToggle NavigationFind My Nearest VetContactEmergency Vet ClinicsBook OnlineToggle NavigationBook OnlineToggle NavigationFind My Nearest VetContactEmergency Vet ClinicsBook Online \\nSearch for:', metadata={'reference': ('How long do cats live? Ageing and your feline - Vetwest Veterinary ...', 'https://www.vetwest.com.au/pet-library/how-long-do-cats-live-ageing-and-your-feline/')}), 0.52620643)\n",
      "\n",
      "Previous data is not sufficient, so I have to search again.\n",
      "Searching the web for 10 websites on \"How can I learn more about prompt engineering?\"\n",
      "Fetching pages and breaking into chunks\n",
      "330 documents\n",
      "The relevant documents I found:\n",
      "(Document(page_content='Want to learn more about prompt engineering? This free course can help | ZDNET', metadata={'reference': ('Want to learn more about prompt engineering? This free course can ...', 'https://www.zdnet.com/article/want-to-learn-more-about-prompt-engineering-this-free-course-can-help/')}), 0.18204044)\n",
      "(Document(page_content='This article will explore what prompt engineering is, its importance & challenges, and provide an in-depth review of the Learn Prompting course designed for the practical application of prompting for learners of all levels (minimal knowledge of machine learning is expected!).', metadata={'reference': ('Learn Prompting 101: Prompt Engineering Course & Challenges ...', 'https://towardsai.net/p/machine-learning/learn-prompting-101-prompt-engineering-course')}), 0.2027668)\n",
      "(Document(page_content=\"In this guide, you’ll learn what prompt engineering is and how you can use it to improve your communication with AI tools. In addition to this, we’ll also explore different categories of prompts and the design principles used to craft effective prompts.\\nBy the end of this guide, you should be able to write good prompts and tailor them to your needs, facilitating a better interaction between you and the language models.\\nLet's get started!\\nWhat is Prompt Engineering?\", metadata={'reference': ('How to Communicate with ChatGPT – A Guide to Prompt Engineering', 'https://www.freecodecamp.org/news/how-to-communicate-with-ai-tools-prompt-engineering/')}), 0.21030352)\n",
      "(Document(page_content='9. ResourcesThe course offers comprehensive educational resources for further learning, including links to articles, blogs, practical examples, and tasks of prompt engineering, relevant experts to follow, and a platform to contribute to the course and ask questions.\\nHow to\\xa0Navigate\\nThe Learn Prompting course offers a non-linear learning model to make learning practical, relevant, and fun. You can read the chapters in any order and delve into the topics that interest you the\\xa0most.', metadata={'reference': ('Learn Prompting 101: Prompt Engineering Course & Challenges ...', 'https://towardsai.net/p/machine-learning/learn-prompting-101-prompt-engineering-course')}), 0.2110538)\n",
      "(Document(page_content=\"an experienced professional looking for an in-depth understanding, this course will provide you with a comprehensive overview and hands-on experience in prompt engineering. You'll explore the full spectrum of roles and responsibilities of a professional prompt engineer, providing you with an edge in the job market.Prompt Engineering Course objectivesBy the end of this course, you will be able to:Understand the fundamentals of prompt engineering and the role of prompt engineers in Generative\", metadata={'reference': ('Complete Prompt Engineering Course | No Coding Experience', 'https://www.promptengineering.org/learn/')}), 0.21647969)\n",
      "\n",
      "I enquired:\n",
      "\"How can I learn more about prompt engineering?\"\n",
      "\n",
      "I learned:\n",
      "The information provided includes summaries of various resources related to prompt engineering. \n",
      "\n",
      "1. The first document is an article from ZDNet that offers a free course to learn more about prompt engineering. The course aims to provide knowledge and skills in prompt engineering.\n",
      "\n",
      "2. The second document is an article that explores the concept of prompt engineering, its importance, challenges, and provides a detailed review of the Learn Prompting course. The course is designed for learners of all levels and does not require extensive knowledge of machine learning.\n",
      "\n",
      "3. The third document is a guide that explains what prompt engineering is and how it can be used to improve communication with AI tools. It also discusses different categories of prompts and design principles for crafting effective prompts.\n",
      "\n",
      "4. The fourth document highlights the resources available in the Learn Prompting course, including links to articles, blogs, practical examples, and tasks related to prompt engineering. The course offers a non-linear learning model for flexibility.\n",
      "\n",
      "5. The fifth document promotes a comprehensive prompt engineering course that provides an overview and hands-on experience in prompt engineering. It aims to equip learners with the necessary skills and knowledge for professional prompt engineering roles.\n",
      "\n",
      "Overall, these resources offer a range of information and courses to help individuals understand and apply prompt engineering techniques.\n",
      "\n",
      "My references:\n",
      "Learn Prompting 101: Prompt Engineering Course & Challenges ...: https://towardsai.net/p/machine-learning/learn-prompting-101-prompt-engineering-course\n",
      "Want to learn more about prompt engineering? This free course can ...: https://www.zdnet.com/article/want-to-learn-more-about-prompt-engineering-this-free-course-can-help/\n",
      "How to Communicate with ChatGPT – A Guide to Prompt Engineering: https://www.freecodecamp.org/news/how-to-communicate-with-ai-tools-prompt-engineering/\n",
      "Complete Prompt Engineering Course | No Coding Experience: https://www.promptengineering.org/learn/\n"
     ]
    }
   ],
   "source": [
    "query = \"How can I learn more about prompt engineering?\"\n",
    "run_search(query)"
   ]
  }
 ],
 "metadata": {
  "kernelspec": {
   "display_name": "palm-chat",
   "language": "python",
   "name": "python3"
  },
  "language_info": {
   "codemirror_mode": {
    "name": "ipython",
    "version": 3
   },
   "file_extension": ".py",
   "mimetype": "text/x-python",
   "name": "python",
   "nbconvert_exporter": "python",
   "pygments_lexer": "ipython3",
   "version": "3.11.3"
  },
  "orig_nbformat": 4
 },
 "nbformat": 4,
 "nbformat_minor": 2
}
