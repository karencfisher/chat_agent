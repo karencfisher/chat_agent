{
 "cells": [
  {
   "cell_type": "code",
   "execution_count": 1,
   "metadata": {},
   "outputs": [],
   "source": [
    "from openai_chat_agent.utils.google_search import GoogleSearch\n"
   ]
  },
  {
   "cell_type": "code",
   "execution_count": 3,
   "metadata": {},
   "outputs": [
    {
     "name": "stdout",
     "output_type": "stream",
     "text": [
      "I enquired:\n",
      "\"What is the typical life span of a cat?\"\n",
      "\n",
      "I learned:\n",
      "The average lifespan of domestic cats has increased over the years. In the 1980s, the average lifespan was seven years, which increased to nine years in 1995, and is now around 15 years in 2021. However, reliable information on cat lifespans is limited. Studies have estimated the mean lifespan to be between 13 and 20 years, with an average of around 15 years. Mixed-breed cats tend to have a longer lifespan compared to purebred cats, and breed-specific lifespans can vary. For example, Maine Coon cats have an average lifespan of 10-13 years, while Siamese cats can live to be 15-20 years old.\n",
      "\n",
      "My references:\n",
      "Aging in cats - Wikipedia: https://en.wikipedia.org/wiki/Aging_in_cats\n",
      "How Long Do Cats Live? | PetMD: https://www.petmd.com/cat/care/how-long-do-cats-live\n",
      "What Is the Average Lifespan of the Common Cat?: https://www.thesprucepets.com/lifespan-of-cats-552035\n",
      "\n",
      "141 words.\n"
     ]
    }
   ],
   "source": [
    "query = \"What is the typical life span of a cat?\"\n",
    "search = GoogleSearch()\n",
    "results = search(query)\n",
    "print(results)\n",
    "print(f'{len(results.split())} words.')\n"
   ]
  },
  {
   "cell_type": "code",
   "execution_count": 4,
   "metadata": {},
   "outputs": [
    {
     "name": "stdout",
     "output_type": "stream",
     "text": [
      "I enquired:\n",
      "\"How can I learn more about prompt engineering?\"\n",
      "\n",
      "I learned:\n",
      "The information provided includes details about a free course on prompt engineering, its importance and challenges, and a review of the Learn Prompting course. It also explains what prompt engineering is and how it can improve communication with AI tools. The course offers comprehensive educational resources, including links to articles, blogs, practical examples, and tasks related to prompt engineering. It provides a non-linear learning model, allowing learners to explore topics of interest. The course aims to provide a comprehensive overview and hands-on experience in prompt engineering, catering to learners of all levels.\n",
      "\n",
      "My references:\n",
      "Learn Prompting 101: Prompt Engineering Course & Challenges ...: https://towardsai.net/p/machine-learning/learn-prompting-101-prompt-engineering-course\n",
      "Want to learn more about prompt engineering? This free course can ...: https://www.zdnet.com/article/want-to-learn-more-about-prompt-engineering-this-free-course-can-help/\n",
      "How to Communicate with ChatGPT – A Guide to Prompt Engineering: https://www.freecodecamp.org/news/how-to-communicate-with-ai-tools-prompt-engineering/\n",
      "Complete Prompt Engineering Course | No Coding Experience: https://www.promptengineering.org/learn/\n",
      "\n",
      "150 words.\n"
     ]
    }
   ],
   "source": [
    "query = \"How can I learn more about prompt engineering?\"\n",
    "search = GoogleSearch()\n",
    "results = search(query)\n",
    "print(results)\n",
    "print(f'{len(results.split())} words.')"
   ]
  }
 ],
 "metadata": {
  "kernelspec": {
   "display_name": "palm-chat",
   "language": "python",
   "name": "python3"
  },
  "language_info": {
   "codemirror_mode": {
    "name": "ipython",
    "version": 3
   },
   "file_extension": ".py",
   "mimetype": "text/x-python",
   "name": "python",
   "nbconvert_exporter": "python",
   "pygments_lexer": "ipython3",
   "version": "3.11.3"
  },
  "orig_nbformat": 4
 },
 "nbformat": 4,
 "nbformat_minor": 2
}
