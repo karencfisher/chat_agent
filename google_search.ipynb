{
 "cells": [
  {
   "cell_type": "code",
   "execution_count": 1,
   "metadata": {},
   "outputs": [],
   "source": [
    "from openai_chat_agent.utils.google_search import GoogleSearch\n"
   ]
  },
  {
   "cell_type": "code",
   "execution_count": 4,
   "metadata": {},
   "outputs": [
    {
     "name": "stdout",
     "output_type": "stream",
     "text": [
      "Searching the web for 10 websites\n",
      "Fetching pages and breaking into chunks\n",
      "245 documents\n",
      "The relevant documents I found:\n",
      "page_content='Average lifespan among domestic cats[edit]' metadata={'item': 6}\n",
      "page_content='How Long Do Cats Live? | PetMD' metadata={'item': 1}\n",
      "page_content='The average lifespan of domestic cats has increased in recent decades. It has risen from seven years in the 1980s, to nine years in 1995, to about 15 years in 2021.[1][failed verification] Reliable information on the lifespans of domestic cats is varied and limited.[2] Nevertheless, a number of studies have investigated the matter and have come up with noteworthy estimates. Estimates of mean lifespan in these studies range between 13 and 20 years, with a single value in the neighborhood of 15' metadata={'item': 6}\n",
      "page_content=\"What Is the Average Lifespan of the Common Cat?\\n \\n \\n \\n \\n \\n \\n \\n \\n \\n \\n \\n \\n \\n \\n \\n \\n \\n \\n \\n \\n \\n \\n \\n \\n \\n \\n \\n \\nSkip to content\\nbutton\\nbutton\\nVisit The Spruce Pets' homepage\\nNewsletters\\nClose search form\\nOpen search form\\nEnter your search term\\nSearch\\n Dogs\\nGetting Started\\nDog Breeds\\nDog Health\\nDog Nutrition & Diet\\nDog Behavior & Training\\n See all\\n \\n Cats\\nGetting Started\\nCat Breeds\\nCat Health\\nCat Nutrition & Diet\\nCat Behavior & Training\\n See all\\n \\n Birds\\nGetting Started\\nPet Bird Species\\nPet Bird Health\" metadata={'item': 4}\n",
      "page_content='It’s thought that mixed-breed cats are affected by hereditary illnesses less frequently than purebred cats, and so their average lifespan is typically one to two years longer. Breed-specific lifespans vary too, so purebred cat parents should take their kitty’s breed into consideration as well. For example: Maine Coon cats have an average lifespan of 10-13 years, while a Siamese can live to be 15-20.\\nIndoor Cat vs. Outdoor Cat Life Expectancy' metadata={'item': 1}\n",
      "\n",
      "I learned: The average lifespan of domestic cats has increased over the years. In the 1980s, the average lifespan was seven years, which increased to nine years in 1995, and is now estimated to be around 15 years in 2021. However, it is important to note that reliable information on the lifespans of domestic cats is limited and varied.\n",
      "\n",
      "Several studies have been conducted to estimate the mean lifespan of domestic cats, and the results range between 13 and 20 years, with an average value of around 15 years. It is worth mentioning that these estimates may vary depending on the study.\n",
      "\n",
      "The lifespan of cats can also be influenced by factors such as breed and whether they are purebred or mixed-breed. It is believed that mixed-breed cats are less affected by hereditary illnesses compared to purebred cats, resulting in a slightly longer average lifespan of one to two years. Breed-specific lifespans also vary, with Maine Coon cats having an average lifespan of 10-13 years, while Siamese cats can live to be 15-20 years old.\n",
      "\n",
      "Additionally, the lifestyle of a cat can also impact its lifespan. Indoor cats generally have a longer life expectancy compared to outdoor cats, as they are less exposed to risks such as accidents, diseases, and predators.\n",
      "\n",
      "Overall, while the average lifespan of domestic cats has increased in recent decades, it is important to consider individual factors such as breed, genetics, and lifestyle when estimating the lifespan of a specific cat.\n",
      "\n",
      "My references:\n",
      "Aging in cats - Wikipedia: https://en.wikipedia.org/wiki/Aging_in_cats\n",
      "How Long Do Cats Live? | PetMD: https://www.petmd.com/cat/care/how-long-do-cats-live\n",
      "What Is the Average Lifespan of the Common Cat?: https://www.thesprucepets.com/lifespan-of-cats-552035\n"
     ]
    }
   ],
   "source": [
    "search = GoogleSearch(verbose=True)\n",
    "summary, links = search(\"What is the typical life span of a cat?\")\n",
    "\n",
    "print(f'I learned: {summary}\\n')\n",
    "print(f'My references:')\n",
    "for link in links:\n",
    "    print(f'{link[\"title\"]}: {link[\"link\"]}')"
   ]
  },
  {
   "cell_type": "code",
   "execution_count": null,
   "metadata": {},
   "outputs": [],
   "source": []
  }
 ],
 "metadata": {
  "kernelspec": {
   "display_name": "palm-chat",
   "language": "python",
   "name": "python3"
  },
  "language_info": {
   "codemirror_mode": {
    "name": "ipython",
    "version": 3
   },
   "file_extension": ".py",
   "mimetype": "text/x-python",
   "name": "python",
   "nbconvert_exporter": "python",
   "pygments_lexer": "ipython3",
   "version": "3.11.3"
  },
  "orig_nbformat": 4
 },
 "nbformat": 4,
 "nbformat_minor": 2
}
