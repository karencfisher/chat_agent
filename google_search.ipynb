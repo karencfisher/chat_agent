{
 "cells": [
  {
   "cell_type": "code",
   "execution_count": 1,
   "metadata": {},
   "outputs": [],
   "source": [
    "from openai_chat_agent.utils.google_search import GoogleSearch\n"
   ]
  },
  {
   "cell_type": "code",
   "execution_count": 4,
   "metadata": {},
   "outputs": [],
   "source": [
    "search = GoogleSearch(verbose=True)\n",
    "\n",
    "def run_search(query):\n",
    "    summary, references = search(query)\n",
    "\n",
    "    print(f'I enquired:\\n\\\"{query}\\\"\\n')\n",
    "    print(f'I learned:\\n{summary}\\n')\n",
    "    print(f'My references:')\n",
    "    for reference in references:\n",
    "        title, link = reference\n",
    "        print(f'{title}: {link}')"
   ]
  },
  {
   "cell_type": "code",
   "execution_count": 5,
   "metadata": {},
   "outputs": [
    {
     "name": "stdout",
     "output_type": "stream",
     "text": [
      "Searching the web for 10 websites on \"What is the typical life span of a cat?\"\n",
      "Fetching pages and breaking into chunks\n",
      "252 documents\n",
      "The relevant documents I found:\n",
      "(Document(page_content='Average lifespan among domestic cats[edit]', metadata={'reference': ('Aging in cats - Wikipedia', 'https://en.wikipedia.org/wiki/Aging_in_cats')}), 0.1730735)\n",
      "(Document(page_content='How Long Do Cats Live? | PetMD', metadata={'reference': ('How Long Do Cats Live? | PetMD', 'https://www.petmd.com/cat/care/how-long-do-cats-live')}), 0.17791441)\n",
      "(Document(page_content='The average lifespan of domestic cats has increased in recent decades. It has risen from seven years in the 1980s, to nine years in 1995, to about 15 years in 2021.[1][failed verification] Reliable information on the lifespans of domestic cats is varied and limited.[2] Nevertheless, a number of studies have investigated the matter and have come up with noteworthy estimates. Estimates of mean lifespan in these studies range between 13 and 20 years, with a single value in the neighborhood of 15', metadata={'reference': ('Aging in cats - Wikipedia', 'https://en.wikipedia.org/wiki/Aging_in_cats')}), 0.18981275)\n",
      "(Document(page_content=\"What Is the Average Lifespan of the Common Cat?\\n \\n \\n \\n \\n \\n \\n \\n \\n \\n \\n \\n \\n \\n \\n \\n \\n \\n \\n \\n \\n \\n \\n \\n \\n \\n \\n \\n \\nSkip to content\\nbutton\\nbutton\\nVisit The Spruce Pets' homepage\\nNewsletters\\nClose search form\\nOpen search form\\nEnter your search term\\nSearch\\n Dogs\\nGetting Started\\nDog Breeds\\nDog Health\\nDog Nutrition & Diet\\nDog Behavior & Training\\n See all\\n \\n Cats\\nGetting Started\\nCat Breeds\\nCat Health\\nCat Nutrition & Diet\\nCat Behavior & Training\\n See all\\n \\n Birds\\nGetting Started\\nPet Bird Species\\nPet Bird Health\", metadata={'reference': ('What Is the Average Lifespan of the Common Cat?', 'https://www.thesprucepets.com/lifespan-of-cats-552035')}), 0.19820249)\n",
      "(Document(page_content='It’s thought that mixed-breed cats are affected by hereditary illnesses less frequently than purebred cats, and so their average lifespan is typically one to two years longer. Breed-specific lifespans vary too, so purebred cat parents should take their kitty’s breed into consideration as well. For example: Maine Coon cats have an average lifespan of 10-13 years, while a Siamese can live to be 15-20.\\nIndoor Cat vs. Outdoor Cat Life Expectancy', metadata={'reference': ('How Long Do Cats Live? | PetMD', 'https://www.petmd.com/cat/care/how-long-do-cats-live')}), 0.19951433)\n",
      "\n",
      "I enquired:\n",
      "\"What is the typical life span of a cat?\"\n",
      "\n",
      "I learned:\n",
      "The average lifespan of domestic cats has increased in recent decades, with estimates ranging between 13 and 20 years. In the 1980s, the average lifespan was seven years, which increased to nine years in 1995 and is now around 15 years in 2021. However, reliable information on cat lifespans is limited. Mixed-breed cats tend to have a longer lifespan than purebred cats, and breed-specific lifespans can vary. For example, Maine Coon cats have an average lifespan of 10-13 years, while Siamese cats can live to be 15-20 years old.\n",
      "\n",
      "My references:\n",
      "Aging in cats - Wikipedia: https://en.wikipedia.org/wiki/Aging_in_cats\n",
      "How Long Do Cats Live? | PetMD: https://www.petmd.com/cat/care/how-long-do-cats-live\n",
      "What Is the Average Lifespan of the Common Cat?: https://www.thesprucepets.com/lifespan-of-cats-552035\n"
     ]
    }
   ],
   "source": [
    "query = \"What is the typical life span of a cat?\"\n",
    "run_search(query)"
   ]
  },
  {
   "cell_type": "code",
   "execution_count": null,
   "metadata": {},
   "outputs": [],
   "source": [
    "query = \"How long can a Siamese cat live?\"\n",
    "run_search(query)"
   ]
  },
  {
   "cell_type": "code",
   "execution_count": null,
   "metadata": {},
   "outputs": [],
   "source": [
    "query = \"How can I learn more about prompt engineering?\"\n",
    "run_search(query)"
   ]
  }
 ],
 "metadata": {
  "kernelspec": {
   "display_name": "palm-chat",
   "language": "python",
   "name": "python3"
  },
  "language_info": {
   "codemirror_mode": {
    "name": "ipython",
    "version": 3
   },
   "file_extension": ".py",
   "mimetype": "text/x-python",
   "name": "python",
   "nbconvert_exporter": "python",
   "pygments_lexer": "ipython3",
   "version": "3.11.3"
  },
  "orig_nbformat": 4
 },
 "nbformat": 4,
 "nbformat_minor": 2
}
