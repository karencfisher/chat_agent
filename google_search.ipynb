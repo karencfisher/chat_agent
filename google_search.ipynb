{
 "cells": [
  {
   "cell_type": "code",
   "execution_count": 1,
   "metadata": {},
   "outputs": [],
   "source": [
    "from openai_chat_agent.utils.google_search import GoogleSearch\n"
   ]
  },
  {
   "cell_type": "code",
   "execution_count": 4,
   "metadata": {},
   "outputs": [
    {
     "name": "stdout",
     "output_type": "stream",
     "text": [
      "I enquired:\n",
      "\"What is the typical life span of a cat?\"\n",
      "\n",
      "I learned:\n",
      "The average lifespan of domestic cats has increased over the years. In the 1980s, the average lifespan was seven years, which increased to nine years in 1995, and is now estimated to be around 15 years in 2021. However, it is important to note that reliable information on the lifespans of domestic cats is limited and varied.\n",
      "\n",
      "Several studies have been conducted to estimate the mean lifespan of domestic cats, and the results range between 13 and 20 years, with an average value of around 15 years. It is worth mentioning that these estimates may vary depending on the study.\n",
      "\n",
      "The lifespan of cats can also be influenced by factors such as breed and whether they are purebred or mixed-breed. It is believed that mixed-breed cats are less affected by hereditary illnesses compared to purebred cats, resulting in a slightly longer average lifespan of one to two years. Breed-specific lifespans also vary, with Maine Coon cats having an average lifespan of 10-13 years, while Siamese cats can live to be 15-20 years old.\n",
      "\n",
      "Additionally, the lifestyle of a cat can also impact its lifespan. Indoor cats generally have a longer life expectancy compared to outdoor cats, as they are less exposed to risks such as accidents, diseases, and predators.\n",
      "\n",
      "Overall, while the average lifespan of domestic cats has increased in recent decades, it is important to consider individual factors such as breed, genetics, and lifestyle when estimating the lifespan of a specific cat.\n",
      "\n",
      "My references:\n",
      "Aging in cats - Wikipedia: https://en.wikipedia.org/wiki/Aging_in_cats\n",
      "How Long Do Cats Live? | PetMD: https://www.petmd.com/cat/care/how-long-do-cats-live\n",
      "What Is the Average Lifespan of the Common Cat?: https://www.thesprucepets.com/lifespan-of-cats-552035\n"
     ]
    }
   ],
   "source": [
    "query = \"What is the typical life span of a cat?\"\n",
    "search = GoogleSearch()\n",
    "summary, links = search(query)\n",
    "\n",
    "print(f'I enquired:\\n\\\"{query}\\\"\\n')\n",
    "print(f'I learned:\\n{summary}\\n')\n",
    "print(f'My references:')\n",
    "for link in links:\n",
    "    print(f'{link[\"title\"]}: {link[\"link\"]}')"
   ]
  },
  {
   "cell_type": "code",
   "execution_count": null,
   "metadata": {},
   "outputs": [],
   "source": [
    "len(summary.split())"
   ]
  }
 ],
 "metadata": {
  "kernelspec": {
   "display_name": "palm-chat",
   "language": "python",
   "name": "python3"
  },
  "language_info": {
   "codemirror_mode": {
    "name": "ipython",
    "version": 3
   },
   "file_extension": ".py",
   "mimetype": "text/x-python",
   "name": "python",
   "nbconvert_exporter": "python",
   "pygments_lexer": "ipython3",
   "version": "3.11.3"
  },
  "orig_nbformat": 4
 },
 "nbformat": 4,
 "nbformat_minor": 2
}
